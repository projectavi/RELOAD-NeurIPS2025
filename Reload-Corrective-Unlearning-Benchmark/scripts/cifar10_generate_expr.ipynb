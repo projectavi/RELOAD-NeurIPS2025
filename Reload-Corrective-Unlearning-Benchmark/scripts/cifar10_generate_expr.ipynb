{
 "cells": [
  {
   "cell_type": "code",
   "execution_count": 25,
   "metadata": {},
   "outputs": [],
   "source": [
    "import os\n",
    "dataset = \"CIFAR10\""
   ]
  },
  {
   "cell_type": "code",
   "execution_count": 26,
   "metadata": {},
   "outputs": [],
   "source": [
    "dataset_methods = [\n",
    "    # \"interclasslabelswap\",\n",
    "    \"poisoning\"\n",
    "]\n",
    "\n",
    "interclasslabelswap_forgetsizes = [500, 2500, 5000]\n",
    "poisoning_forgetsizes = [100, 500, 1000]\n",
    "\n",
    "forget_sizes = {\n",
    "    \"interclasslabelswap\": interclasslabelswap_forgetsizes,\n",
    "    \"poisoning\": poisoning_forgetsizes\n",
    "}\n",
    "\n",
    "interclasslabelswap_params = \" --unlearn_method=Reload --repair_epochs=5 --replacement_strategy=mean --rlr=0.009571325502397091 --threshold=0.19784411766656915\"\n",
    "poisoning_params = \" --unlearn_method=Reload --repair_epochs=5 --replacement_strategy=xavier_normal --rlr=0.003813667500821023 --threshold=0.39835279985487354\"\n",
    "\n",
    "params = {\n",
    "    \"interclasslabelswap\": interclasslabelswap_params,\n",
    "    \"poisoning\": poisoning_params\n",
    "}\n",
    "\n",
    "incremements = 0.1"
   ]
  },
  {
   "cell_type": "code",
   "execution_count": 27,
   "metadata": {},
   "outputs": [
    {
     "name": "stdout",
     "output_type": "stream",
     "text": [
      "python main_offline.py --dataset=CIFAR10 --num_classes=10 --model=resnet9 --pretrain_iters=4000 --dataset_method=poisoning --forget_set_size=100 --deletion_size=10 --unlearn_method=Reload --repair_epochs=5 --replacement_strategy=xavier_normal --rlr=0.003813667500821023 --threshold=0.39835279985487354\n",
      "python main_offline.py --dataset=CIFAR10 --num_classes=10 --model=resnet9 --pretrain_iters=4000 --dataset_method=poisoning --forget_set_size=100 --deletion_size=20 --unlearn_method=Reload --repair_epochs=5 --replacement_strategy=xavier_normal --rlr=0.003813667500821023 --threshold=0.39835279985487354\n",
      "python main_offline.py --dataset=CIFAR10 --num_classes=10 --model=resnet9 --pretrain_iters=4000 --dataset_method=poisoning --forget_set_size=100 --deletion_size=30 --unlearn_method=Reload --repair_epochs=5 --replacement_strategy=xavier_normal --rlr=0.003813667500821023 --threshold=0.39835279985487354\n",
      "python main_offline.py --dataset=CIFAR10 --num_classes=10 --model=resnet9 --pretrain_iters=4000 --dataset_method=poisoning --forget_set_size=100 --deletion_size=40 --unlearn_method=Reload --repair_epochs=5 --replacement_strategy=xavier_normal --rlr=0.003813667500821023 --threshold=0.39835279985487354\n",
      "python main_offline.py --dataset=CIFAR10 --num_classes=10 --model=resnet9 --pretrain_iters=4000 --dataset_method=poisoning --forget_set_size=100 --deletion_size=50 --unlearn_method=Reload --repair_epochs=5 --replacement_strategy=xavier_normal --rlr=0.003813667500821023 --threshold=0.39835279985487354\n",
      "python main_offline.py --dataset=CIFAR10 --num_classes=10 --model=resnet9 --pretrain_iters=4000 --dataset_method=poisoning --forget_set_size=100 --deletion_size=60 --unlearn_method=Reload --repair_epochs=5 --replacement_strategy=xavier_normal --rlr=0.003813667500821023 --threshold=0.39835279985487354\n",
      "python main_offline.py --dataset=CIFAR10 --num_classes=10 --model=resnet9 --pretrain_iters=4000 --dataset_method=poisoning --forget_set_size=100 --deletion_size=70 --unlearn_method=Reload --repair_epochs=5 --replacement_strategy=xavier_normal --rlr=0.003813667500821023 --threshold=0.39835279985487354\n",
      "python main_offline.py --dataset=CIFAR10 --num_classes=10 --model=resnet9 --pretrain_iters=4000 --dataset_method=poisoning --forget_set_size=100 --deletion_size=80 --unlearn_method=Reload --repair_epochs=5 --replacement_strategy=xavier_normal --rlr=0.003813667500821023 --threshold=0.39835279985487354\n",
      "python main_offline.py --dataset=CIFAR10 --num_classes=10 --model=resnet9 --pretrain_iters=4000 --dataset_method=poisoning --forget_set_size=100 --deletion_size=90 --unlearn_method=Reload --repair_epochs=5 --replacement_strategy=xavier_normal --rlr=0.003813667500821023 --threshold=0.39835279985487354\n",
      "python main_offline.py --dataset=CIFAR10 --num_classes=10 --model=resnet9 --pretrain_iters=4000 --dataset_method=poisoning --forget_set_size=100 --deletion_size=100 --unlearn_method=Reload --repair_epochs=5 --replacement_strategy=xavier_normal --rlr=0.003813667500821023 --threshold=0.39835279985487354\n",
      "python main_offline.py --dataset=CIFAR10 --num_classes=10 --model=resnet9 --pretrain_iters=4000 --dataset_method=poisoning --forget_set_size=500 --deletion_size=50 --unlearn_method=Reload --repair_epochs=5 --replacement_strategy=xavier_normal --rlr=0.003813667500821023 --threshold=0.39835279985487354\n",
      "python main_offline.py --dataset=CIFAR10 --num_classes=10 --model=resnet9 --pretrain_iters=4000 --dataset_method=poisoning --forget_set_size=500 --deletion_size=100 --unlearn_method=Reload --repair_epochs=5 --replacement_strategy=xavier_normal --rlr=0.003813667500821023 --threshold=0.39835279985487354\n",
      "python main_offline.py --dataset=CIFAR10 --num_classes=10 --model=resnet9 --pretrain_iters=4000 --dataset_method=poisoning --forget_set_size=500 --deletion_size=150 --unlearn_method=Reload --repair_epochs=5 --replacement_strategy=xavier_normal --rlr=0.003813667500821023 --threshold=0.39835279985487354\n",
      "python main_offline.py --dataset=CIFAR10 --num_classes=10 --model=resnet9 --pretrain_iters=4000 --dataset_method=poisoning --forget_set_size=500 --deletion_size=200 --unlearn_method=Reload --repair_epochs=5 --replacement_strategy=xavier_normal --rlr=0.003813667500821023 --threshold=0.39835279985487354\n",
      "python main_offline.py --dataset=CIFAR10 --num_classes=10 --model=resnet9 --pretrain_iters=4000 --dataset_method=poisoning --forget_set_size=500 --deletion_size=250 --unlearn_method=Reload --repair_epochs=5 --replacement_strategy=xavier_normal --rlr=0.003813667500821023 --threshold=0.39835279985487354\n",
      "python main_offline.py --dataset=CIFAR10 --num_classes=10 --model=resnet9 --pretrain_iters=4000 --dataset_method=poisoning --forget_set_size=500 --deletion_size=300 --unlearn_method=Reload --repair_epochs=5 --replacement_strategy=xavier_normal --rlr=0.003813667500821023 --threshold=0.39835279985487354\n",
      "python main_offline.py --dataset=CIFAR10 --num_classes=10 --model=resnet9 --pretrain_iters=4000 --dataset_method=poisoning --forget_set_size=500 --deletion_size=350 --unlearn_method=Reload --repair_epochs=5 --replacement_strategy=xavier_normal --rlr=0.003813667500821023 --threshold=0.39835279985487354\n",
      "python main_offline.py --dataset=CIFAR10 --num_classes=10 --model=resnet9 --pretrain_iters=4000 --dataset_method=poisoning --forget_set_size=500 --deletion_size=400 --unlearn_method=Reload --repair_epochs=5 --replacement_strategy=xavier_normal --rlr=0.003813667500821023 --threshold=0.39835279985487354\n",
      "python main_offline.py --dataset=CIFAR10 --num_classes=10 --model=resnet9 --pretrain_iters=4000 --dataset_method=poisoning --forget_set_size=500 --deletion_size=450 --unlearn_method=Reload --repair_epochs=5 --replacement_strategy=xavier_normal --rlr=0.003813667500821023 --threshold=0.39835279985487354\n",
      "python main_offline.py --dataset=CIFAR10 --num_classes=10 --model=resnet9 --pretrain_iters=4000 --dataset_method=poisoning --forget_set_size=500 --deletion_size=500 --unlearn_method=Reload --repair_epochs=5 --replacement_strategy=xavier_normal --rlr=0.003813667500821023 --threshold=0.39835279985487354\n",
      "python main_offline.py --dataset=CIFAR10 --num_classes=10 --model=resnet9 --pretrain_iters=4000 --dataset_method=poisoning --forget_set_size=1000 --deletion_size=100 --unlearn_method=Reload --repair_epochs=5 --replacement_strategy=xavier_normal --rlr=0.003813667500821023 --threshold=0.39835279985487354\n",
      "python main_offline.py --dataset=CIFAR10 --num_classes=10 --model=resnet9 --pretrain_iters=4000 --dataset_method=poisoning --forget_set_size=1000 --deletion_size=200 --unlearn_method=Reload --repair_epochs=5 --replacement_strategy=xavier_normal --rlr=0.003813667500821023 --threshold=0.39835279985487354\n",
      "python main_offline.py --dataset=CIFAR10 --num_classes=10 --model=resnet9 --pretrain_iters=4000 --dataset_method=poisoning --forget_set_size=1000 --deletion_size=300 --unlearn_method=Reload --repair_epochs=5 --replacement_strategy=xavier_normal --rlr=0.003813667500821023 --threshold=0.39835279985487354\n",
      "python main_offline.py --dataset=CIFAR10 --num_classes=10 --model=resnet9 --pretrain_iters=4000 --dataset_method=poisoning --forget_set_size=1000 --deletion_size=400 --unlearn_method=Reload --repair_epochs=5 --replacement_strategy=xavier_normal --rlr=0.003813667500821023 --threshold=0.39835279985487354\n",
      "python main_offline.py --dataset=CIFAR10 --num_classes=10 --model=resnet9 --pretrain_iters=4000 --dataset_method=poisoning --forget_set_size=1000 --deletion_size=500 --unlearn_method=Reload --repair_epochs=5 --replacement_strategy=xavier_normal --rlr=0.003813667500821023 --threshold=0.39835279985487354\n",
      "python main_offline.py --dataset=CIFAR10 --num_classes=10 --model=resnet9 --pretrain_iters=4000 --dataset_method=poisoning --forget_set_size=1000 --deletion_size=600 --unlearn_method=Reload --repair_epochs=5 --replacement_strategy=xavier_normal --rlr=0.003813667500821023 --threshold=0.39835279985487354\n",
      "python main_offline.py --dataset=CIFAR10 --num_classes=10 --model=resnet9 --pretrain_iters=4000 --dataset_method=poisoning --forget_set_size=1000 --deletion_size=700 --unlearn_method=Reload --repair_epochs=5 --replacement_strategy=xavier_normal --rlr=0.003813667500821023 --threshold=0.39835279985487354\n",
      "python main_offline.py --dataset=CIFAR10 --num_classes=10 --model=resnet9 --pretrain_iters=4000 --dataset_method=poisoning --forget_set_size=1000 --deletion_size=800 --unlearn_method=Reload --repair_epochs=5 --replacement_strategy=xavier_normal --rlr=0.003813667500821023 --threshold=0.39835279985487354\n",
      "python main_offline.py --dataset=CIFAR10 --num_classes=10 --model=resnet9 --pretrain_iters=4000 --dataset_method=poisoning --forget_set_size=1000 --deletion_size=900 --unlearn_method=Reload --repair_epochs=5 --replacement_strategy=xavier_normal --rlr=0.003813667500821023 --threshold=0.39835279985487354\n",
      "python main_offline.py --dataset=CIFAR10 --num_classes=10 --model=resnet9 --pretrain_iters=4000 --dataset_method=poisoning --forget_set_size=1000 --deletion_size=1000 --unlearn_method=Reload --repair_epochs=5 --replacement_strategy=xavier_normal --rlr=0.003813667500821023 --threshold=0.39835279985487354\n"
     ]
    }
   ],
   "source": [
    "for method in dataset_methods:\n",
    "    for forget_size in forget_sizes[method]:\n",
    "        for increment in range(1, 11):\n",
    "            deletion_size = int(forget_size * incremements * increment)\n",
    "            command = f\"python main_offline.py --dataset={dataset} --num_classes=10 --model=resnet9 --pretrain_iters=4000 --dataset_method={method} --forget_set_size={forget_size} --deletion_size={deletion_size}\" + params[method]\n",
    "            print(command)"
   ]
  }
 ],
 "metadata": {
  "kernelspec": {
   "display_name": "mul",
   "language": "python",
   "name": "python3"
  },
  "language_info": {
   "codemirror_mode": {
    "name": "ipython",
    "version": 3
   },
   "file_extension": ".py",
   "mimetype": "text/x-python",
   "name": "python",
   "nbconvert_exporter": "python",
   "pygments_lexer": "ipython3",
   "version": "3.10.4"
  }
 },
 "nbformat": 4,
 "nbformat_minor": 2
}
